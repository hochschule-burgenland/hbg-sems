{
 "cells": [
  {
   "cell_type": "code",
   "execution_count": 1,
   "id": "8e36396e",
   "metadata": {},
   "outputs": [
    {
     "name": "stderr",
     "output_type": "stream",
     "text": [
      "c:\\Users\\GottfriedLuef\\.conda\\envs\\sems\\Lib\\site-packages\\tqdm\\auto.py:21: TqdmWarning: IProgress not found. Please update jupyter and ipywidgets. See https://ipywidgets.readthedocs.io/en/stable/user_install.html\n",
      "  from .autonotebook import tqdm as notebook_tqdm\n"
     ]
    },
    {
     "name": "stdout",
     "output_type": "stream",
     "text": [
      "Most similar words to 'austria': [('hungary', 0.8293870091438293), ('oberwaltersdorf', 0.8045506477355957), ('vorarlberg', 0.7904022336006165), ('transitforum', 0.7855764031410217), ('liechtenstein', 0.784540057182312), ('bavaria', 0.7782023549079895), ('austrian', 0.7770031690597534), ('graz', 0.7754347920417786), ('slovakia', 0.7739809155464172), ('burgenland', 0.7707111239433289), ('insbruck', 0.7704581022262573), ('archduchy', 0.7701655626296997), ('eggenburg', 0.7692753672599792), ('ENTITY/Austria', 0.7679458856582642), ('blindenmarkt', 0.766389787197113)]\n"
     ]
    }
   ],
   "source": [
    "from gensim.models import KeyedVectors\n",
    "from huggingface_hub import hf_hub_download\n",
    "from pathlib import Path\n",
    "import os\n",
    "import nltk\n",
    "\n",
    "model_filename=\"enwiki_20180420_100d\"\n",
    "proj_dir=f\"{os.getcwd()}\"\n",
    "local_cache_dir=f\"{proj_dir}/model_cache/\"\n",
    "\n",
    "model=KeyedVectors.load(f\"{local_cache_dir}/{model_filename}.bin\")\n",
    "if \"austria\" in model:\n",
    "    print(f\"Most similar words to 'austria': {model.most_similar('austria', topn=15)}\")\n",
    "else:\n",
    "    print(\"'austria' is not in the model vocabulary.\")\n",
    "model."
   ]
  }
 ],
 "metadata": {
  "kernelspec": {
   "display_name": "sems",
   "language": "python",
   "name": "python3"
  },
  "language_info": {
   "codemirror_mode": {
    "name": "ipython",
    "version": 3
   },
   "file_extension": ".py",
   "mimetype": "text/x-python",
   "name": "python",
   "nbconvert_exporter": "python",
   "pygments_lexer": "ipython3",
   "version": "3.12.3"
  }
 },
 "nbformat": 4,
 "nbformat_minor": 5
}
