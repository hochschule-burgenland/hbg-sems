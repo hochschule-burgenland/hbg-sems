{
 "cells": [
  {
   "cell_type": "markdown",
   "id": "df7f5f54",
   "metadata": {},
   "source": [
    "Lemmatisierung ist für Deutsch nicht so gut unterstützt wie für Englisch. Um Downloads zu vermeiden, wollen wir daher \"nur\" Stemming anwendien.\n",
    "Im nltk-Package gibt es das CiStem-Modul, das Stemming für Deutsch implementiert."
   ]
  },
  {
   "cell_type": "code",
   "execution_count": null,
   "id": "8af99a3d",
   "metadata": {},
   "outputs": [
    {
     "name": "stdout",
     "output_type": "stream",
     "text": [
      "heiss\n",
      "['Zu', 'Dionysos', ',', 'dem', 'Tyrannen', ',', 'schlich', 'Damon', ',', 'den', 'Dolch', 'im', 'Gewande']\n"
     ]
    }
   ],
   "source": [
    "from nltk.stem.cistem import Cistem\n",
    "stemmer= Cistem()\n",
    "print(stemmer.stem(\"heißer\"))\n",
    "\n",
    "from nltk import NLTKWordTokenizer \n",
    "tok= NLTKWordTokenizer()\n",
    "tokens=tok.tokenize(\"Zu Dionysos, dem Tyrannen, schlich Damon, den Dolch im Gewande\")\n",
    "print(tokens)\n",
    "\n",
    "\n",
    "\n",
    "\n",
    "\n",
    "\n"
   ]
  }
 ],
 "metadata": {
  "kernelspec": {
   "display_name": "sems",
   "language": "python",
   "name": "python3"
  },
  "language_info": {
   "codemirror_mode": {
    "name": "ipython",
    "version": 3
   },
   "file_extension": ".py",
   "mimetype": "text/x-python",
   "name": "python",
   "nbconvert_exporter": "python",
   "pygments_lexer": "ipython3",
   "version": "3.12.3"
  }
 },
 "nbformat": 4,
 "nbformat_minor": 5
}
